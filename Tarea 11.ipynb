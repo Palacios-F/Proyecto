{
 "cells": [
  {
   "cell_type": "markdown",
   "metadata": {},
   "source": [
    "<img style=\"float: left; margin: 30px 15px 15px 15px;\" src=\"https://pngimage.net/wp-content/uploads/2018/06/logo-iteso-png-5.png\" width=\"300\" height=\"500\" /> \n",
    "    \n",
    "    \n",
    "### <font color='navy'> Simulación de procesos financieros. \n",
    "\n",
    "**Nombres:** Flavio Palacios \n",
    "\n",
    "**Fecha:** 10 de Mayo del 2021.\n",
    "\n",
    "**Expediente** : if729825, \n",
    "**Profesor:** Oscar David Jaramillo Zuluaga.\n",
    "\n",
    "# Tarea 11: Clase 24"
   ]
  },
  {
   "cell_type": "markdown",
   "metadata": {},
   "source": [
    "## Link de github\n",
    "[Github](https://github.com/Palacios-F/ProyectoConjunto_FCPalacios)"
   ]
  },
  {
   "cell_type": "markdown",
   "metadata": {},
   "source": [
    "Realizar la valuación de las opciones barrera para las acciones de Microsoft, siguiendo los siguientes lineamientos:\n",
    "1. Realizar la valuación para el tipo de opción barrera 'CALL'- down-and-out, usando la suposición de rendimientos normales y usando el método del histograma. Para ambas valuaciones, comparar los resultados de la evaluación obtenida con los resultados obtenidos por la valuación Europea. Como se realizó en clase.\n",
    "2. Repetir el inciso anterior pero en esta ocasión para el caso de 'PUT'- Up-and-out.\n",
    "\n",
    "**Nota:** Analice los datos descargados y según el método ya sea `down-and-out` o `Up-and-out` defina un strike price usando la volatility smile vista en la clase de opciones europeas y basado en el spot price y el strike defina una barrera adecuada.\n",
    "\n",
    "Se habilitará un enlace en canvas para subir un cuaderno de python, con la solución.\n",
    "\n",
    "**Criterio de revisión.**\n",
    "\n",
    "> Se te calificará de acuerdo a los resultados finales que reportes, basados en tu análisis."
   ]
  },
  {
   "cell_type": "code",
   "execution_count": 1,
   "metadata": {},
   "outputs": [],
   "source": [
    "#importar los paquetes que se van a usar\n",
    "import pandas as pd\n",
    "import pandas_datareader.data as web\n",
    "import numpy as np\n",
    "import datetime\n",
    "import matplotlib.pyplot as plt\n",
    "import scipy.stats as st\n",
    "import seaborn as sns\n",
    "from datetime import date\n",
    "%matplotlib inline\n",
    "#algunas opciones para Pandas\n",
    "pd.set_option('display.notebook_repr_html', True)\n",
    "pd.set_option('display.max_columns', 6)\n",
    "pd.set_option('display.max_rows', 10)\n",
    "pd.set_option('display.width', 78)\n",
    "pd.set_option('precision', 3)"
   ]
  },
  {
   "cell_type": "code",
   "execution_count": 2,
   "metadata": {},
   "outputs": [
    {
     "data": {
      "text/html": [
       "<div>\n",
       "<style scoped>\n",
       "    .dataframe tbody tr th:only-of-type {\n",
       "        vertical-align: middle;\n",
       "    }\n",
       "\n",
       "    .dataframe tbody tr th {\n",
       "        vertical-align: top;\n",
       "    }\n",
       "\n",
       "    .dataframe thead th {\n",
       "        text-align: right;\n",
       "    }\n",
       "</style>\n",
       "<table border=\"1\" class=\"dataframe\">\n",
       "  <thead>\n",
       "    <tr style=\"text-align: right;\">\n",
       "      <th></th>\n",
       "      <th>Strike</th>\n",
       "      <th>Type</th>\n",
       "      <th>Symbol</th>\n",
       "      <th>...</th>\n",
       "      <th>Quote_Time</th>\n",
       "      <th>Last_Trade_Date</th>\n",
       "      <th>JSON</th>\n",
       "    </tr>\n",
       "    <tr>\n",
       "      <th>Expiry</th>\n",
       "      <th></th>\n",
       "      <th></th>\n",
       "      <th></th>\n",
       "      <th></th>\n",
       "      <th></th>\n",
       "      <th></th>\n",
       "      <th></th>\n",
       "    </tr>\n",
       "  </thead>\n",
       "  <tbody>\n",
       "    <tr>\n",
       "      <th>2021-06-18</th>\n",
       "      <td>65.0</td>\n",
       "      <td>call</td>\n",
       "      <td>MSFT210618C00065000</td>\n",
       "      <td>...</td>\n",
       "      <td>2021-05-05 20:00:02</td>\n",
       "      <td>2021-04-30 14:37:48</td>\n",
       "      <td>{'contractSymbol': 'MSFT210618C00065000', 'str...</td>\n",
       "    </tr>\n",
       "    <tr>\n",
       "      <th>2021-06-18</th>\n",
       "      <td>65.0</td>\n",
       "      <td>put</td>\n",
       "      <td>MSFT210618P00065000</td>\n",
       "      <td>...</td>\n",
       "      <td>2021-05-05 20:00:02</td>\n",
       "      <td>2021-04-30 16:16:58</td>\n",
       "      <td>{'contractSymbol': 'MSFT210618P00065000', 'str...</td>\n",
       "    </tr>\n",
       "    <tr>\n",
       "      <th>2021-06-18</th>\n",
       "      <td>70.0</td>\n",
       "      <td>call</td>\n",
       "      <td>MSFT210618C00070000</td>\n",
       "      <td>...</td>\n",
       "      <td>2021-05-05 20:00:02</td>\n",
       "      <td>2021-04-30 13:49:44</td>\n",
       "      <td>{'contractSymbol': 'MSFT210618C00070000', 'str...</td>\n",
       "    </tr>\n",
       "    <tr>\n",
       "      <th>2021-06-18</th>\n",
       "      <td>70.0</td>\n",
       "      <td>put</td>\n",
       "      <td>MSFT210618P00070000</td>\n",
       "      <td>...</td>\n",
       "      <td>2021-05-05 20:00:02</td>\n",
       "      <td>2021-04-23 16:08:57</td>\n",
       "      <td>{'contractSymbol': 'MSFT210618P00070000', 'str...</td>\n",
       "    </tr>\n",
       "    <tr>\n",
       "      <th>2022-01-21</th>\n",
       "      <td>70.0</td>\n",
       "      <td>call</td>\n",
       "      <td>MSFT220121C00070000</td>\n",
       "      <td>...</td>\n",
       "      <td>2021-05-05 20:00:02</td>\n",
       "      <td>2021-05-03 19:52:57</td>\n",
       "      <td>{'contractSymbol': 'MSFT220121C00070000', 'str...</td>\n",
       "    </tr>\n",
       "    <tr>\n",
       "      <th>...</th>\n",
       "      <td>...</td>\n",
       "      <td>...</td>\n",
       "      <td>...</td>\n",
       "      <td>...</td>\n",
       "      <td>...</td>\n",
       "      <td>...</td>\n",
       "      <td>...</td>\n",
       "    </tr>\n",
       "    <tr>\n",
       "      <th>2023-01-20</th>\n",
       "      <td>390.0</td>\n",
       "      <td>put</td>\n",
       "      <td>MSFT230120P00390000</td>\n",
       "      <td>...</td>\n",
       "      <td>2021-05-05 20:00:02</td>\n",
       "      <td>2021-04-28 14:05:34</td>\n",
       "      <td>{'contractSymbol': 'MSFT230120P00390000', 'str...</td>\n",
       "    </tr>\n",
       "    <tr>\n",
       "      <th>2023-03-17</th>\n",
       "      <td>390.0</td>\n",
       "      <td>call</td>\n",
       "      <td>MSFT230317C00390000</td>\n",
       "      <td>...</td>\n",
       "      <td>2021-05-05 20:00:02</td>\n",
       "      <td>2021-05-05 18:45:54</td>\n",
       "      <td>{'contractSymbol': 'MSFT230317C00390000', 'str...</td>\n",
       "    </tr>\n",
       "    <tr>\n",
       "      <th>2023-03-17</th>\n",
       "      <td>390.0</td>\n",
       "      <td>put</td>\n",
       "      <td>MSFT230317P00390000</td>\n",
       "      <td>...</td>\n",
       "      <td>2021-05-05 20:00:02</td>\n",
       "      <td>2021-04-27 19:22:49</td>\n",
       "      <td>{'contractSymbol': 'MSFT230317P00390000', 'str...</td>\n",
       "    </tr>\n",
       "    <tr>\n",
       "      <th>2023-06-16</th>\n",
       "      <td>390.0</td>\n",
       "      <td>call</td>\n",
       "      <td>MSFT230616C00390000</td>\n",
       "      <td>...</td>\n",
       "      <td>2021-05-05 20:00:02</td>\n",
       "      <td>2021-05-05 18:30:54</td>\n",
       "      <td>{'contractSymbol': 'MSFT230616C00390000', 'str...</td>\n",
       "    </tr>\n",
       "    <tr>\n",
       "      <th>2023-06-16</th>\n",
       "      <td>390.0</td>\n",
       "      <td>put</td>\n",
       "      <td>MSFT230616P00390000</td>\n",
       "      <td>...</td>\n",
       "      <td>2021-05-05 20:00:02</td>\n",
       "      <td>2021-04-30 17:09:46</td>\n",
       "      <td>{'contractSymbol': 'MSFT230616P00390000', 'str...</td>\n",
       "    </tr>\n",
       "  </tbody>\n",
       "</table>\n",
       "<p>1851 rows × 18 columns</p>\n",
       "</div>"
      ],
      "text/plain": [
       "            Strike  Type               Symbol  ...          Quote_Time  \\\n",
       "Expiry                                         ...                       \n",
       "2021-06-18    65.0  call  MSFT210618C00065000  ... 2021-05-05 20:00:02   \n",
       "2021-06-18    65.0   put  MSFT210618P00065000  ... 2021-05-05 20:00:02   \n",
       "2021-06-18    70.0  call  MSFT210618C00070000  ... 2021-05-05 20:00:02   \n",
       "2021-06-18    70.0   put  MSFT210618P00070000  ... 2021-05-05 20:00:02   \n",
       "2022-01-21    70.0  call  MSFT220121C00070000  ... 2021-05-05 20:00:02   \n",
       "...            ...   ...                  ...  ...                 ...   \n",
       "2023-01-20   390.0   put  MSFT230120P00390000  ... 2021-05-05 20:00:02   \n",
       "2023-03-17   390.0  call  MSFT230317C00390000  ... 2021-05-05 20:00:02   \n",
       "2023-03-17   390.0   put  MSFT230317P00390000  ... 2021-05-05 20:00:02   \n",
       "2023-06-16   390.0  call  MSFT230616C00390000  ... 2021-05-05 20:00:02   \n",
       "2023-06-16   390.0   put  MSFT230616P00390000  ... 2021-05-05 20:00:02   \n",
       "\n",
       "               Last_Trade_Date  \\\n",
       "Expiry                           \n",
       "2021-06-18 2021-04-30 14:37:48   \n",
       "2021-06-18 2021-04-30 16:16:58   \n",
       "2021-06-18 2021-04-30 13:49:44   \n",
       "2021-06-18 2021-04-23 16:08:57   \n",
       "2022-01-21 2021-05-03 19:52:57   \n",
       "...                        ...   \n",
       "2023-01-20 2021-04-28 14:05:34   \n",
       "2023-03-17 2021-05-05 18:45:54   \n",
       "2023-03-17 2021-04-27 19:22:49   \n",
       "2023-06-16 2021-05-05 18:30:54   \n",
       "2023-06-16 2021-04-30 17:09:46   \n",
       "\n",
       "                                                         JSON  \n",
       "Expiry                                                         \n",
       "2021-06-18  {'contractSymbol': 'MSFT210618C00065000', 'str...  \n",
       "2021-06-18  {'contractSymbol': 'MSFT210618P00065000', 'str...  \n",
       "2021-06-18  {'contractSymbol': 'MSFT210618C00070000', 'str...  \n",
       "2021-06-18  {'contractSymbol': 'MSFT210618P00070000', 'str...  \n",
       "2022-01-21  {'contractSymbol': 'MSFT220121C00070000', 'str...  \n",
       "...                                                       ...  \n",
       "2023-01-20  {'contractSymbol': 'MSFT230120P00390000', 'str...  \n",
       "2023-03-17  {'contractSymbol': 'MSFT230317C00390000', 'str...  \n",
       "2023-03-17  {'contractSymbol': 'MSFT230317P00390000', 'str...  \n",
       "2023-06-16  {'contractSymbol': 'MSFT230616C00390000', 'str...  \n",
       "2023-06-16  {'contractSymbol': 'MSFT230616P00390000', 'str...  \n",
       "\n",
       "[1851 rows x 18 columns]"
      ]
     },
     "execution_count": 2,
     "metadata": {},
     "output_type": "execute_result"
    }
   ],
   "source": [
    "msft = web.YahooOptions('MSFT')\n",
    "msft_opt = msft.get_all_data().reset_index()\n",
    "msft_opt.set_index('Expiry')"
   ]
  },
  {
   "cell_type": "markdown",
   "metadata": {},
   "source": [
    "## Opción Call"
   ]
  },
  {
   "cell_type": "code",
   "execution_count": 3,
   "metadata": {},
   "outputs": [
    {
     "data": {
      "text/html": [
       "<div>\n",
       "<style scoped>\n",
       "    .dataframe tbody tr th:only-of-type {\n",
       "        vertical-align: middle;\n",
       "    }\n",
       "\n",
       "    .dataframe tbody tr th {\n",
       "        vertical-align: top;\n",
       "    }\n",
       "\n",
       "    .dataframe thead th {\n",
       "        text-align: right;\n",
       "    }\n",
       "</style>\n",
       "<table border=\"1\" class=\"dataframe\">\n",
       "  <thead>\n",
       "    <tr style=\"text-align: right;\">\n",
       "      <th></th>\n",
       "      <th>Strike</th>\n",
       "      <th>Expiry</th>\n",
       "      <th>Type</th>\n",
       "      <th>...</th>\n",
       "      <th>Quote_Time</th>\n",
       "      <th>Last_Trade_Date</th>\n",
       "      <th>JSON</th>\n",
       "    </tr>\n",
       "  </thead>\n",
       "  <tbody>\n",
       "    <tr>\n",
       "      <th>52</th>\n",
       "      <td>100.0</td>\n",
       "      <td>2021-09-17</td>\n",
       "      <td>call</td>\n",
       "      <td>...</td>\n",
       "      <td>2021-05-05 20:00:02</td>\n",
       "      <td>2021-04-09 15:49:31</td>\n",
       "      <td>{'contractSymbol': 'MSFT210917C00100000', 'str...</td>\n",
       "    </tr>\n",
       "    <tr>\n",
       "      <th>64</th>\n",
       "      <td>105.0</td>\n",
       "      <td>2021-09-17</td>\n",
       "      <td>call</td>\n",
       "      <td>...</td>\n",
       "      <td>2021-05-05 20:00:02</td>\n",
       "      <td>2021-04-09 16:45:11</td>\n",
       "      <td>{'contractSymbol': 'MSFT210917C00105000', 'str...</td>\n",
       "    </tr>\n",
       "    <tr>\n",
       "      <th>78</th>\n",
       "      <td>110.0</td>\n",
       "      <td>2021-09-17</td>\n",
       "      <td>call</td>\n",
       "      <td>...</td>\n",
       "      <td>2021-05-05 20:00:02</td>\n",
       "      <td>2021-04-09 15:48:16</td>\n",
       "      <td>{'contractSymbol': 'MSFT210917C00110000', 'str...</td>\n",
       "    </tr>\n",
       "    <tr>\n",
       "      <th>99</th>\n",
       "      <td>115.0</td>\n",
       "      <td>2021-09-17</td>\n",
       "      <td>call</td>\n",
       "      <td>...</td>\n",
       "      <td>2021-05-05 20:00:02</td>\n",
       "      <td>2021-02-26 20:01:59</td>\n",
       "      <td>{'contractSymbol': 'MSFT210917C00115000', 'str...</td>\n",
       "    </tr>\n",
       "    <tr>\n",
       "      <th>126</th>\n",
       "      <td>120.0</td>\n",
       "      <td>2021-09-17</td>\n",
       "      <td>call</td>\n",
       "      <td>...</td>\n",
       "      <td>2021-05-05 20:00:02</td>\n",
       "      <td>2021-04-09 16:27:07</td>\n",
       "      <td>{'contractSymbol': 'MSFT210917C00120000', 'str...</td>\n",
       "    </tr>\n",
       "    <tr>\n",
       "      <th>...</th>\n",
       "      <td>...</td>\n",
       "      <td>...</td>\n",
       "      <td>...</td>\n",
       "      <td>...</td>\n",
       "      <td>...</td>\n",
       "      <td>...</td>\n",
       "      <td>...</td>\n",
       "    </tr>\n",
       "    <tr>\n",
       "      <th>1729</th>\n",
       "      <td>355.0</td>\n",
       "      <td>2021-09-17</td>\n",
       "      <td>call</td>\n",
       "      <td>...</td>\n",
       "      <td>2021-05-05 20:00:02</td>\n",
       "      <td>2021-05-04 19:32:36</td>\n",
       "      <td>{'contractSymbol': 'MSFT210917C00355000', 'str...</td>\n",
       "    </tr>\n",
       "    <tr>\n",
       "      <th>1751</th>\n",
       "      <td>360.0</td>\n",
       "      <td>2021-09-17</td>\n",
       "      <td>call</td>\n",
       "      <td>...</td>\n",
       "      <td>2021-05-05 20:00:02</td>\n",
       "      <td>2021-04-29 16:54:33</td>\n",
       "      <td>{'contractSymbol': 'MSFT210917C00360000', 'str...</td>\n",
       "    </tr>\n",
       "    <tr>\n",
       "      <th>1787</th>\n",
       "      <td>370.0</td>\n",
       "      <td>2021-09-17</td>\n",
       "      <td>call</td>\n",
       "      <td>...</td>\n",
       "      <td>2021-05-05 20:00:02</td>\n",
       "      <td>2021-04-30 16:42:40</td>\n",
       "      <td>{'contractSymbol': 'MSFT210917C00370000', 'str...</td>\n",
       "    </tr>\n",
       "    <tr>\n",
       "      <th>1820</th>\n",
       "      <td>380.0</td>\n",
       "      <td>2021-09-17</td>\n",
       "      <td>call</td>\n",
       "      <td>...</td>\n",
       "      <td>2021-05-05 20:00:02</td>\n",
       "      <td>2021-05-04 18:05:35</td>\n",
       "      <td>{'contractSymbol': 'MSFT210917C00380000', 'str...</td>\n",
       "    </tr>\n",
       "    <tr>\n",
       "      <th>1838</th>\n",
       "      <td>390.0</td>\n",
       "      <td>2021-09-17</td>\n",
       "      <td>call</td>\n",
       "      <td>...</td>\n",
       "      <td>2021-05-05 20:00:02</td>\n",
       "      <td>2021-04-26 15:14:56</td>\n",
       "      <td>{'contractSymbol': 'MSFT210917C00390000', 'str...</td>\n",
       "    </tr>\n",
       "  </tbody>\n",
       "</table>\n",
       "<p>56 rows × 19 columns</p>\n",
       "</div>"
      ],
      "text/plain": [
       "      Strike     Expiry  Type  ...          Quote_Time     Last_Trade_Date  \\\n",
       "52     100.0 2021-09-17  call  ... 2021-05-05 20:00:02 2021-04-09 15:49:31   \n",
       "64     105.0 2021-09-17  call  ... 2021-05-05 20:00:02 2021-04-09 16:45:11   \n",
       "78     110.0 2021-09-17  call  ... 2021-05-05 20:00:02 2021-04-09 15:48:16   \n",
       "99     115.0 2021-09-17  call  ... 2021-05-05 20:00:02 2021-02-26 20:01:59   \n",
       "126    120.0 2021-09-17  call  ... 2021-05-05 20:00:02 2021-04-09 16:27:07   \n",
       "...      ...        ...   ...  ...                 ...                 ...   \n",
       "1729   355.0 2021-09-17  call  ... 2021-05-05 20:00:02 2021-05-04 19:32:36   \n",
       "1751   360.0 2021-09-17  call  ... 2021-05-05 20:00:02 2021-04-29 16:54:33   \n",
       "1787   370.0 2021-09-17  call  ... 2021-05-05 20:00:02 2021-04-30 16:42:40   \n",
       "1820   380.0 2021-09-17  call  ... 2021-05-05 20:00:02 2021-05-04 18:05:35   \n",
       "1838   390.0 2021-09-17  call  ... 2021-05-05 20:00:02 2021-04-26 15:14:56   \n",
       "\n",
       "                                                   JSON  \n",
       "52    {'contractSymbol': 'MSFT210917C00100000', 'str...  \n",
       "64    {'contractSymbol': 'MSFT210917C00105000', 'str...  \n",
       "78    {'contractSymbol': 'MSFT210917C00110000', 'str...  \n",
       "99    {'contractSymbol': 'MSFT210917C00115000', 'str...  \n",
       "126   {'contractSymbol': 'MSFT210917C00120000', 'str...  \n",
       "...                                                 ...  \n",
       "1729  {'contractSymbol': 'MSFT210917C00355000', 'str...  \n",
       "1751  {'contractSymbol': 'MSFT210917C00360000', 'str...  \n",
       "1787  {'contractSymbol': 'MSFT210917C00370000', 'str...  \n",
       "1820  {'contractSymbol': 'MSFT210917C00380000', 'str...  \n",
       "1838  {'contractSymbol': 'MSFT210917C00390000', 'str...  \n",
       "\n",
       "[56 rows x 19 columns]"
      ]
     },
     "execution_count": 3,
     "metadata": {},
     "output_type": "execute_result"
    }
   ],
   "source": [
    "fecha1 = '2021-09-17'\n",
    "call_f1 = msft_opt.loc[(msft_opt.Expiry== fecha1) & (msft_opt.Type=='call')]\n",
    "call_f1"
   ]
  },
  {
   "cell_type": "markdown",
   "metadata": {},
   "source": [
    "### Underlying Price"
   ]
  },
  {
   "cell_type": "code",
   "execution_count": 4,
   "metadata": {},
   "outputs": [
    {
     "data": {
      "text/plain": [
       "246.47"
      ]
     },
     "execution_count": 4,
     "metadata": {},
     "output_type": "execute_result"
    }
   ],
   "source": [
    "call_f1.Underlying_Price.iloc[0]"
   ]
  },
  {
   "cell_type": "markdown",
   "metadata": {},
   "source": [
    "### Volatility Smile"
   ]
  },
  {
   "cell_type": "code",
   "execution_count": 5,
   "metadata": {},
   "outputs": [
    {
     "data": {
      "image/png": "[encoded data removed]",
      "text/plain": [
       "<Figure size 576x432 with 1 Axes>"
      ]
     },
     "metadata": {
      "needs_background": "light"
     },
     "output_type": "display_data"
    }
   ],
   "source": [
    "ax = call_f1.set_index('Strike').loc[:, 'IV'].plot(figsize=(8,6))\n",
    "ax.axvline(call_f1.Underlying_Price.iloc[0], color='g');"
   ]
  },
  {
   "cell_type": "markdown",
   "metadata": {},
   "source": [
    "Si consideramos la sonrisa de volatilidad el punto donde la volatilidad es mínima es aproximadamente por los 280 dolares y ese punto es el que se considerará para el strike de la opción"
   ]
  },
  {
   "cell_type": "code",
   "execution_count": 6,
   "metadata": {},
   "outputs": [],
   "source": [
    "def get_adj_closes(tickers, start_date=None, end_date=None):\n",
    "    # Fecha inicio por defecto (start_date='2010-01-01') y fecha fin por defecto (end_date=today)\n",
    "    # Descargamos DataFrame con todos los datos\n",
    "    closes = web.DataReader(name=tickers, data_source='yahoo', start=start_date, end=end_date)\n",
    "    # Solo necesitamos los precios ajustados en el cierre\n",
    "    closes = closes['Adj Close']\n",
    "    # Se ordenan los índices de manera ascendente\n",
    "    closes.sort_index(inplace=True)\n",
    "    return closes\n",
    "\n",
    "def calc_daily_ret(closes):\n",
    "    return np.log(closes/closes.shift(1)).iloc[1:]"
   ]
  },
  {
   "cell_type": "code",
   "execution_count": 7,
   "metadata": {},
   "outputs": [
    {
     "data": {
      "image/png": "[encoded data removed]",
      "text/plain": [
       "<Figure size 576x360 with 1 Axes>"
      ]
     },
     "metadata": {
      "needs_background": "light"
     },
     "output_type": "display_data"
    }
   ],
   "source": [
    "ticker = ['MSFT']\n",
    "start_date = '2017-01-01'\n",
    "\n",
    "closes_msft = get_adj_closes(ticker, start_date)\n",
    "closes_msft.plot(figsize=(8,5));\n",
    "plt.legend(ticker);"
   ]
  },
  {
   "cell_type": "code",
   "execution_count": 8,
   "metadata": {},
   "outputs": [],
   "source": [
    "### Calculo de los rendimientos diarios logaritmicos\n",
    "ret_msft = calc_daily_ret(closes_msft)"
   ]
  },
  {
   "cell_type": "code",
   "execution_count": 9,
   "metadata": {},
   "outputs": [
    {
     "data": {
      "text/html": [
       "<div>\n",
       "<style scoped>\n",
       "    .dataframe tbody tr th:only-of-type {\n",
       "        vertical-align: middle;\n",
       "    }\n",
       "\n",
       "    .dataframe tbody tr th {\n",
       "        vertical-align: top;\n",
       "    }\n",
       "\n",
       "    .dataframe thead th {\n",
       "        text-align: right;\n",
       "    }\n",
       "</style>\n",
       "<table border=\"1\" class=\"dataframe\">\n",
       "  <thead>\n",
       "    <tr style=\"text-align: right;\">\n",
       "      <th></th>\n",
       "      <th>Strike</th>\n",
       "      <th>Expiry</th>\n",
       "      <th>Type</th>\n",
       "      <th>...</th>\n",
       "      <th>Quote_Time</th>\n",
       "      <th>Last_Trade_Date</th>\n",
       "      <th>JSON</th>\n",
       "    </tr>\n",
       "  </thead>\n",
       "  <tbody>\n",
       "    <tr>\n",
       "      <th>1305</th>\n",
       "      <td>280.0</td>\n",
       "      <td>2021-09-17</td>\n",
       "      <td>call</td>\n",
       "      <td>...</td>\n",
       "      <td>2021-05-05 20:00:02</td>\n",
       "      <td>2021-05-05 18:36:29</td>\n",
       "      <td>{'contractSymbol': 'MSFT210917C00280000', 'str...</td>\n",
       "    </tr>\n",
       "  </tbody>\n",
       "</table>\n",
       "<p>1 rows × 19 columns</p>\n",
       "</div>"
      ],
      "text/plain": [
       "      Strike     Expiry  Type  ...          Quote_Time     Last_Trade_Date  \\\n",
       "1305   280.0 2021-09-17  call  ... 2021-05-05 20:00:02 2021-05-05 18:36:29   \n",
       "\n",
       "                                                   JSON  \n",
       "1305  {'contractSymbol': 'MSFT210917C00280000', 'str...  \n",
       "\n",
       "[1 rows x 19 columns]"
      ]
     },
     "execution_count": 9,
     "metadata": {},
     "output_type": "execute_result"
    }
   ],
   "source": [
    "K = 280 # strike price\n",
    "indice_opt = msft_opt.loc[(msft_opt.Type=='call') & (msft_opt.Strike==K) & (msft_opt.Expiry==fecha1)]\n",
    "indice_opt"
   ]
  },
  {
   "cell_type": "code",
   "execution_count": 10,
   "metadata": {},
   "outputs": [
    {
     "data": {
      "text/plain": [
       "{'contractSymbol': 'MSFT210917C00280000',\n",
       " 'strike': 280.0,\n",
       " 'currency': 'USD',\n",
       " 'lastPrice': 3.25,\n",
       " 'change': -0.45000005,\n",
       " 'percentChange': -12.162163,\n",
       " 'volume': 23,\n",
       " 'openInterest': 9330,\n",
       " 'bid': 3.1,\n",
       " 'ask': 3.3,\n",
       " 'contractSize': 'REGULAR',\n",
       " 'expiration': 1631836800,\n",
       " 'lastTradeDate': 1620239789,\n",
       " 'impliedVolatility': 0.2217485052490234,\n",
       " 'inTheMoney': False}"
      ]
     },
     "execution_count": 10,
     "metadata": {},
     "output_type": "execute_result"
    }
   ],
   "source": [
    "i_opt= indice_opt.index\n",
    "opcion_valuar = msft_opt.loc[i_opt[0]]\n",
    "opcion_valuar['JSON']"
   ]
  },
  {
   "cell_type": "code",
   "execution_count": 11,
   "metadata": {},
   "outputs": [
    {
     "data": {
      "text/plain": [
       "(0.017983725313409405, 0.0013176508099668406)"
      ]
     },
     "execution_count": 11,
     "metadata": {},
     "output_type": "execute_result"
    }
   ],
   "source": [
    "#### desviación estandar de los rendimientos diarios de la acción\n",
    "mu = ret_msft.mean()[0]\n",
    "sigma = ret_msft.std()[0]\n",
    "sigma,mu"
   ]
  },
  {
   "cell_type": "code",
   "execution_count": 12,
   "metadata": {},
   "outputs": [],
   "source": [
    "# Tasa de bonos de 1 yr de fecha 05/05/21 -> 0.06%\n",
    "r = 0.0006/360 # Tasa diaria"
   ]
  },
  {
   "cell_type": "markdown",
   "metadata": {},
   "source": [
    "### Simulación con suposición de rendimientos normales"
   ]
  },
  {
   "cell_type": "code",
   "execution_count": 13,
   "metadata": {},
   "outputs": [],
   "source": [
    "# Encontrar la fecha de hoy en fomato timestamp\n",
    "today = pd.to_datetime(date.today())\n",
    "\n",
    "# Obtener fecha de cierre de la opción a valuar\n",
    "expiry = opcion_valuar.Expiry\n",
    "\n",
    "# Generar rangos de fechas de días hábiles\n",
    "dates = pd.date_range(today,expiry,freq = 'B')\n",
    "ndays = len(dates)\n",
    "\n",
    "# Número de escenarios\n",
    "nscen = 100000\n",
    "\n",
    "# Condición inicial del precio a simular\n",
    "S0 = closes_msft.iloc[-1,0]\n",
    "\n",
    "# simular rendimientos\n",
    "sim_ret =  pd.DataFrame(sigma*np.random.randn(ndays,nscen)+r,index=dates)\n",
    "\n",
    "# Simular precios\n",
    "sim_closes = S0*np.exp(sim_ret.cumsum())"
   ]
  },
  {
   "cell_type": "code",
   "execution_count": 14,
   "metadata": {},
   "outputs": [],
   "source": [
    "# Definir barrera\n",
    "B = 230\n",
    "# Crear función indicadora\n",
    "I = (sim_closes > B).cumprod(axis=0)  > 0\n",
    "# Definir strike\n",
    "strike = K"
   ]
  },
  {
   "cell_type": "code",
   "execution_count": 15,
   "metadata": {},
   "outputs": [
    {
     "data": {
      "image/png": "[encoded data removed]",
      "text/plain": [
       "<Figure size 432x288 with 1 Axes>"
      ]
     },
     "metadata": {
      "needs_background": "light"
     },
     "output_type": "display_data"
    }
   ],
   "source": [
    "# Prima de una opción Europea\n",
    "call = pd.DataFrame({'Prima Europea':np.exp(-r*ndays)*np.fmax(sim_closes - strike, 0)\n",
    "                     .mean(axis=1)},index=dates)\n",
    "\n",
    "# Prima de una opción barrera\n",
    "callui = pd.DataFrame({'Prima down-and-out':np.exp(-r*ndays)*(I * np.fmax(sim_closes - strike, 0))\n",
    "                       .mean(axis=1)},index=dates)\n",
    "\n",
    "# Resultado de las dos primas previamente valuadas\n",
    "ax = callui.plot();\n",
    "call.plot(ax=ax);"
   ]
  },
  {
   "cell_type": "code",
   "execution_count": 16,
   "metadata": {},
   "outputs": [
    {
     "data": {
      "text/plain": [
       "Prima Europea    7.657\n",
       "Name: 2021-09-17 00:00:00, dtype: float64"
      ]
     },
     "execution_count": 16,
     "metadata": {},
     "output_type": "execute_result"
    }
   ],
   "source": [
    "call.iloc[-1]"
   ]
  },
  {
   "cell_type": "code",
   "execution_count": 17,
   "metadata": {},
   "outputs": [
    {
     "data": {
      "text/plain": [
       "Prima down-and-out    6.45\n",
       "Name: 2021-09-17 00:00:00, dtype: float64"
      ]
     },
     "execution_count": 17,
     "metadata": {},
     "output_type": "execute_result"
    }
   ],
   "source": [
    "callui.iloc[-1]"
   ]
  },
  {
   "cell_type": "markdown",
   "metadata": {},
   "source": [
    "### Simulación rendimientos historicos"
   ]
  },
  {
   "cell_type": "code",
   "execution_count": 18,
   "metadata": {},
   "outputs": [
    {
     "data": {
      "image/png": "[encoded data removed]",
      "text/plain": [
       "<Figure size 432x288 with 1 Axes>"
      ]
     },
     "metadata": {
      "needs_background": "light"
     },
     "output_type": "display_data"
    }
   ],
   "source": [
    "y,x,des = plt.hist(ret_msft,bins=50,density=True,color = '#581845')\n",
    "plt.title('Histograma de los rendimientos de MSFT')\n",
    "plt.show()"
   ]
  },
  {
   "cell_type": "code",
   "execution_count": 19,
   "metadata": {},
   "outputs": [],
   "source": [
    "# Histograma tomando la tasa libre de riesgo\n",
    "freq, values = np.histogram(ret_msft+r-mu, bins=2000)\n",
    "prob = freq/np.sum(freq)\n",
    "\n",
    "# Simulación de los rendimientos\n",
    "ret = np.random.choice(values[1:], ndays*nscen, p=prob)\n",
    "\n",
    "# Simulación de precios\n",
    "sim_ret_hist = pd.DataFrame(ret.reshape((ndays,nscen)),index=dates)\n",
    "sim_closes_hist = (closes_msft.iloc[-1,0]) * np.exp(sim_ret_hist.cumsum())"
   ]
  },
  {
   "cell_type": "code",
   "execution_count": 20,
   "metadata": {},
   "outputs": [
    {
     "data": {
      "image/png": "[encoded data removed]",
      "text/plain": [
       "<Figure size 432x288 with 1 Axes>"
      ]
     },
     "metadata": {
      "needs_background": "light"
     },
     "output_type": "display_data"
    }
   ],
   "source": [
    "# Prima de una opción Europea\n",
    "call = pd.DataFrame({'Prima Europea':np.exp(-r*ndays)*np.fmax(sim_closes_hist - strike, 0)\n",
    "                     .mean(axis=1)},index=dates)\n",
    "\n",
    "# Prima de una opción barrera\n",
    "callui = pd.DataFrame({'Prima down-and-out':np.exp(-r*ndays)*(I * np.fmax(sim_closes_hist - strike, 0))\n",
    "                       .mean(axis=1)},index=dates)\n",
    "\n",
    "# Resultado de las dos primas previamente valuadas\n",
    "ax = callui.plot();\n",
    "call.plot(ax=ax);"
   ]
  },
  {
   "cell_type": "code",
   "execution_count": 21,
   "metadata": {},
   "outputs": [
    {
     "data": {
      "text/plain": [
       "Prima Europea    8.023\n",
       "Name: 2021-09-17 00:00:00, dtype: float64"
      ]
     },
     "execution_count": 21,
     "metadata": {},
     "output_type": "execute_result"
    }
   ],
   "source": [
    "call.iloc[-1]"
   ]
  },
  {
   "cell_type": "code",
   "execution_count": 22,
   "metadata": {},
   "outputs": [
    {
     "data": {
      "text/plain": [
       "Prima down-and-out    2.782\n",
       "Name: 2021-09-17 00:00:00, dtype: float64"
      ]
     },
     "execution_count": 22,
     "metadata": {},
     "output_type": "execute_result"
    }
   ],
   "source": [
    "callui.iloc[-1]"
   ]
  },
  {
   "cell_type": "markdown",
   "metadata": {},
   "source": [
    "## Conclusiones"
   ]
  },
  {
   "cell_type": "markdown",
   "metadata": {},
   "source": [
    "El valor de la opción europea original tanto con los datos historicos como usando rendimientos normales difieren algo del valor del mercado de la opción posiblemente debido a que que los rendimientos no son lognormales ya que se ve que presentan algo de leptokurtosis o colas gruesas lo que hace que suban los precios muy rapido y por eso esa diferencia. De igual forma esto se transmite a la opción barrera ya que como en el caso del uso de los historicos se esta considerando las colas gruesas hay una mayor volatilidad de los precios que hace que la barrera sea cruzada en una mayor cantidad de veces y lo que se traduce en un costo de prima mucho menor, en ese sentido sería posiblemente más apegado a la realidad debido a que no está limitado por las suposiciones que se hacen para la valuación en el otro caso."
   ]
  },
  {
   "cell_type": "markdown",
   "metadata": {},
   "source": [
    "## Opción Put"
   ]
  },
  {
   "cell_type": "code",
   "execution_count": 23,
   "metadata": {},
   "outputs": [
    {
     "data": {
      "text/html": [
       "<div>\n",
       "<style scoped>\n",
       "    .dataframe tbody tr th:only-of-type {\n",
       "        vertical-align: middle;\n",
       "    }\n",
       "\n",
       "    .dataframe tbody tr th {\n",
       "        vertical-align: top;\n",
       "    }\n",
       "\n",
       "    .dataframe thead th {\n",
       "        text-align: right;\n",
       "    }\n",
       "</style>\n",
       "<table border=\"1\" class=\"dataframe\">\n",
       "  <thead>\n",
       "    <tr style=\"text-align: right;\">\n",
       "      <th></th>\n",
       "      <th>Strike</th>\n",
       "      <th>Expiry</th>\n",
       "      <th>Type</th>\n",
       "      <th>...</th>\n",
       "      <th>Quote_Time</th>\n",
       "      <th>Last_Trade_Date</th>\n",
       "      <th>JSON</th>\n",
       "    </tr>\n",
       "  </thead>\n",
       "  <tbody>\n",
       "    <tr>\n",
       "      <th>53</th>\n",
       "      <td>100.0</td>\n",
       "      <td>2021-09-17</td>\n",
       "      <td>put</td>\n",
       "      <td>...</td>\n",
       "      <td>2021-05-05 20:00:02</td>\n",
       "      <td>2021-05-03 13:33:33</td>\n",
       "      <td>{'contractSymbol': 'MSFT210917P00100000', 'str...</td>\n",
       "    </tr>\n",
       "    <tr>\n",
       "      <th>65</th>\n",
       "      <td>105.0</td>\n",
       "      <td>2021-09-17</td>\n",
       "      <td>put</td>\n",
       "      <td>...</td>\n",
       "      <td>2021-05-05 20:00:02</td>\n",
       "      <td>2021-05-04 18:46:11</td>\n",
       "      <td>{'contractSymbol': 'MSFT210917P00105000', 'str...</td>\n",
       "    </tr>\n",
       "    <tr>\n",
       "      <th>79</th>\n",
       "      <td>110.0</td>\n",
       "      <td>2021-09-17</td>\n",
       "      <td>put</td>\n",
       "      <td>...</td>\n",
       "      <td>2021-05-05 20:00:02</td>\n",
       "      <td>2021-04-28 13:41:31</td>\n",
       "      <td>{'contractSymbol': 'MSFT210917P00110000', 'str...</td>\n",
       "    </tr>\n",
       "    <tr>\n",
       "      <th>100</th>\n",
       "      <td>115.0</td>\n",
       "      <td>2021-09-17</td>\n",
       "      <td>put</td>\n",
       "      <td>...</td>\n",
       "      <td>2021-05-05 20:00:02</td>\n",
       "      <td>2021-04-29 16:34:18</td>\n",
       "      <td>{'contractSymbol': 'MSFT210917P00115000', 'str...</td>\n",
       "    </tr>\n",
       "    <tr>\n",
       "      <th>127</th>\n",
       "      <td>120.0</td>\n",
       "      <td>2021-09-17</td>\n",
       "      <td>put</td>\n",
       "      <td>...</td>\n",
       "      <td>2021-05-05 20:00:02</td>\n",
       "      <td>2021-04-30 18:08:49</td>\n",
       "      <td>{'contractSymbol': 'MSFT210917P00120000', 'str...</td>\n",
       "    </tr>\n",
       "    <tr>\n",
       "      <th>...</th>\n",
       "      <td>...</td>\n",
       "      <td>...</td>\n",
       "      <td>...</td>\n",
       "      <td>...</td>\n",
       "      <td>...</td>\n",
       "      <td>...</td>\n",
       "      <td>...</td>\n",
       "    </tr>\n",
       "    <tr>\n",
       "      <th>1662</th>\n",
       "      <td>340.0</td>\n",
       "      <td>2021-09-17</td>\n",
       "      <td>put</td>\n",
       "      <td>...</td>\n",
       "      <td>2021-05-05 20:00:02</td>\n",
       "      <td>2021-04-09 19:38:07</td>\n",
       "      <td>{'contractSymbol': 'MSFT210917P00340000', 'str...</td>\n",
       "    </tr>\n",
       "    <tr>\n",
       "      <th>1685</th>\n",
       "      <td>345.0</td>\n",
       "      <td>2021-09-17</td>\n",
       "      <td>put</td>\n",
       "      <td>...</td>\n",
       "      <td>2021-05-05 20:00:02</td>\n",
       "      <td>2021-02-24 14:39:00</td>\n",
       "      <td>{'contractSymbol': 'MSFT210917P00345000', 'str...</td>\n",
       "    </tr>\n",
       "    <tr>\n",
       "      <th>1709</th>\n",
       "      <td>350.0</td>\n",
       "      <td>2021-09-17</td>\n",
       "      <td>put</td>\n",
       "      <td>...</td>\n",
       "      <td>2021-05-05 20:00:02</td>\n",
       "      <td>2021-04-28 13:32:49</td>\n",
       "      <td>{'contractSymbol': 'MSFT210917P00350000', 'str...</td>\n",
       "    </tr>\n",
       "    <tr>\n",
       "      <th>1752</th>\n",
       "      <td>360.0</td>\n",
       "      <td>2021-09-17</td>\n",
       "      <td>put</td>\n",
       "      <td>...</td>\n",
       "      <td>2021-05-05 20:00:02</td>\n",
       "      <td>2021-04-06 17:31:55</td>\n",
       "      <td>{'contractSymbol': 'MSFT210917P00360000', 'str...</td>\n",
       "    </tr>\n",
       "    <tr>\n",
       "      <th>1788</th>\n",
       "      <td>370.0</td>\n",
       "      <td>2021-09-17</td>\n",
       "      <td>put</td>\n",
       "      <td>...</td>\n",
       "      <td>2021-05-05 20:00:02</td>\n",
       "      <td>2021-04-06 17:33:39</td>\n",
       "      <td>{'contractSymbol': 'MSFT210917P00370000', 'str...</td>\n",
       "    </tr>\n",
       "  </tbody>\n",
       "</table>\n",
       "<p>53 rows × 19 columns</p>\n",
       "</div>"
      ],
      "text/plain": [
       "      Strike     Expiry Type  ...          Quote_Time     Last_Trade_Date  \\\n",
       "53     100.0 2021-09-17  put  ... 2021-05-05 20:00:02 2021-05-03 13:33:33   \n",
       "65     105.0 2021-09-17  put  ... 2021-05-05 20:00:02 2021-05-04 18:46:11   \n",
       "79     110.0 2021-09-17  put  ... 2021-05-05 20:00:02 2021-04-28 13:41:31   \n",
       "100    115.0 2021-09-17  put  ... 2021-05-05 20:00:02 2021-04-29 16:34:18   \n",
       "127    120.0 2021-09-17  put  ... 2021-05-05 20:00:02 2021-04-30 18:08:49   \n",
       "...      ...        ...  ...  ...                 ...                 ...   \n",
       "1662   340.0 2021-09-17  put  ... 2021-05-05 20:00:02 2021-04-09 19:38:07   \n",
       "1685   345.0 2021-09-17  put  ... 2021-05-05 20:00:02 2021-02-24 14:39:00   \n",
       "1709   350.0 2021-09-17  put  ... 2021-05-05 20:00:02 2021-04-28 13:32:49   \n",
       "1752   360.0 2021-09-17  put  ... 2021-05-05 20:00:02 2021-04-06 17:31:55   \n",
       "1788   370.0 2021-09-17  put  ... 2021-05-05 20:00:02 2021-04-06 17:33:39   \n",
       "\n",
       "                                                   JSON  \n",
       "53    {'contractSymbol': 'MSFT210917P00100000', 'str...  \n",
       "65    {'contractSymbol': 'MSFT210917P00105000', 'str...  \n",
       "79    {'contractSymbol': 'MSFT210917P00110000', 'str...  \n",
       "100   {'contractSymbol': 'MSFT210917P00115000', 'str...  \n",
       "127   {'contractSymbol': 'MSFT210917P00120000', 'str...  \n",
       "...                                                 ...  \n",
       "1662  {'contractSymbol': 'MSFT210917P00340000', 'str...  \n",
       "1685  {'contractSymbol': 'MSFT210917P00345000', 'str...  \n",
       "1709  {'contractSymbol': 'MSFT210917P00350000', 'str...  \n",
       "1752  {'contractSymbol': 'MSFT210917P00360000', 'str...  \n",
       "1788  {'contractSymbol': 'MSFT210917P00370000', 'str...  \n",
       "\n",
       "[53 rows x 19 columns]"
      ]
     },
     "execution_count": 23,
     "metadata": {},
     "output_type": "execute_result"
    }
   ],
   "source": [
    "fecha1 = '2021-09-17'\n",
    "put_f1 = msft_opt.loc[(msft_opt.Expiry== fecha1) & (msft_opt.Type=='put')]\n",
    "put_f1"
   ]
  },
  {
   "cell_type": "markdown",
   "metadata": {},
   "source": [
    "### Volatility Smile"
   ]
  },
  {
   "cell_type": "code",
   "execution_count": 24,
   "metadata": {},
   "outputs": [
    {
     "data": {
      "image/png": "[encoded data removed]",
      "text/plain": [
       "<Figure size 576x432 with 1 Axes>"
      ]
     },
     "metadata": {
      "needs_background": "light"
     },
     "output_type": "display_data"
    }
   ],
   "source": [
    "ax = put_f1.set_index('Strike').loc[:, 'IV'].plot(figsize=(8,6))\n",
    "ax.axvline(put_f1.Underlying_Price.iloc[0], color='g');"
   ]
  },
  {
   "cell_type": "code",
   "execution_count": 25,
   "metadata": {},
   "outputs": [
    {
     "data": {
      "text/html": [
       "<div>\n",
       "<style scoped>\n",
       "    .dataframe tbody tr th:only-of-type {\n",
       "        vertical-align: middle;\n",
       "    }\n",
       "\n",
       "    .dataframe tbody tr th {\n",
       "        vertical-align: top;\n",
       "    }\n",
       "\n",
       "    .dataframe thead th {\n",
       "        text-align: right;\n",
       "    }\n",
       "</style>\n",
       "<table border=\"1\" class=\"dataframe\">\n",
       "  <thead>\n",
       "    <tr style=\"text-align: right;\">\n",
       "      <th></th>\n",
       "      <th>Strike</th>\n",
       "      <th>Expiry</th>\n",
       "      <th>Type</th>\n",
       "      <th>...</th>\n",
       "      <th>Quote_Time</th>\n",
       "      <th>Last_Trade_Date</th>\n",
       "      <th>JSON</th>\n",
       "    </tr>\n",
       "  </thead>\n",
       "  <tbody>\n",
       "    <tr>\n",
       "      <th>835</th>\n",
       "      <td>230.0</td>\n",
       "      <td>2021-09-17</td>\n",
       "      <td>put</td>\n",
       "      <td>...</td>\n",
       "      <td>2021-05-05 20:00:02</td>\n",
       "      <td>2021-05-05 19:50:04</td>\n",
       "      <td>{'contractSymbol': 'MSFT210917P00230000', 'str...</td>\n",
       "    </tr>\n",
       "  </tbody>\n",
       "</table>\n",
       "<p>1 rows × 19 columns</p>\n",
       "</div>"
      ],
      "text/plain": [
       "     Strike     Expiry Type  ...          Quote_Time     Last_Trade_Date  \\\n",
       "835   230.0 2021-09-17  put  ... 2021-05-05 20:00:02 2021-05-05 19:50:04   \n",
       "\n",
       "                                                  JSON  \n",
       "835  {'contractSymbol': 'MSFT210917P00230000', 'str...  \n",
       "\n",
       "[1 rows x 19 columns]"
      ]
     },
     "execution_count": 25,
     "metadata": {},
     "output_type": "execute_result"
    }
   ],
   "source": [
    "K = 230 # strike price\n",
    "indice_opt_put = msft_opt.loc[(msft_opt.Type=='put') & (msft_opt.Strike==K) & (msft_opt.Expiry==fecha1)]\n",
    "indice_opt_put"
   ]
  },
  {
   "cell_type": "code",
   "execution_count": 26,
   "metadata": {},
   "outputs": [
    {
     "data": {
      "text/plain": [
       "{'contractSymbol': 'MSFT210917P00230000',\n",
       " 'strike': 230.0,\n",
       " 'currency': 'USD',\n",
       " 'lastPrice': 7.95,\n",
       " 'change': -0.4499998,\n",
       " 'percentChange': -5.3571405,\n",
       " 'volume': 329,\n",
       " 'openInterest': 4329,\n",
       " 'bid': 7.75,\n",
       " 'ask': 8.2,\n",
       " 'contractSize': 'REGULAR',\n",
       " 'expiration': 1631836800,\n",
       " 'lastTradeDate': 1620244204,\n",
       " 'impliedVolatility': 0.259345785522461,\n",
       " 'inTheMoney': False}"
      ]
     },
     "execution_count": 26,
     "metadata": {},
     "output_type": "execute_result"
    }
   ],
   "source": [
    "i_optp= indice_opt_put.index\n",
    "opcion_valuar = msft_opt.loc[i_optp[0]]\n",
    "opcion_valuar['JSON']"
   ]
  },
  {
   "cell_type": "markdown",
   "metadata": {},
   "source": [
    "### Simulación con suposición rendimientos normales"
   ]
  },
  {
   "cell_type": "code",
   "execution_count": 27,
   "metadata": {},
   "outputs": [],
   "source": [
    "# Número de escenarios\n",
    "nscen = 100000\n",
    "\n",
    "# Condición inicial del precio a simular\n",
    "S0 = closes_msft.iloc[-1,0]\n",
    "\n",
    "# simular rendimientos\n",
    "sim_ret =  pd.DataFrame(sigma*np.random.randn(ndays,nscen)+r,index=dates)\n",
    "\n",
    "# Simular precios\n",
    "sim_closes = S0*np.exp(sim_ret.cumsum())"
   ]
  },
  {
   "cell_type": "code",
   "execution_count": 28,
   "metadata": {},
   "outputs": [],
   "source": [
    "# Definir barrera\n",
    "B = 260\n",
    "# Crear función indicadora\n",
    "I = (sim_closes < B).cumprod(axis=0)  > 0\n",
    "# Definir strike\n",
    "strike = K"
   ]
  },
  {
   "cell_type": "code",
   "execution_count": 29,
   "metadata": {},
   "outputs": [
    {
     "data": {
      "image/png": "[encoded data removed]",
      "text/plain": [
       "<Figure size 432x288 with 1 Axes>"
      ]
     },
     "metadata": {
      "needs_background": "light"
     },
     "output_type": "display_data"
    }
   ],
   "source": [
    "# Prima de una opción Europea\n",
    "put = pd.DataFrame({'Prima Europea':np.exp(-r*ndays)*np.fmax(strike - sim_closes, 0)\n",
    "                     .mean(axis=1)},index=dates)\n",
    "\n",
    "# Prima de una opción barrera\n",
    "putui = pd.DataFrame({'Prima up-and-out':np.exp(-r*ndays)*(I * np.fmax(strike - sim_closes, 0))\n",
    "                       .mean(axis=1)},index=dates)\n",
    "\n",
    "# Resultado de las dos primas previamente valuadas\n",
    "ax = putui.plot();\n",
    "put.plot(ax=ax);"
   ]
  },
  {
   "cell_type": "code",
   "execution_count": 30,
   "metadata": {},
   "outputs": [
    {
     "data": {
      "text/plain": [
       "Prima Europea    8.711\n",
       "Name: 2021-09-17 00:00:00, dtype: float64"
      ]
     },
     "execution_count": 30,
     "metadata": {},
     "output_type": "execute_result"
    }
   ],
   "source": [
    "put.iloc[-1]"
   ]
  },
  {
   "cell_type": "code",
   "execution_count": 31,
   "metadata": {},
   "outputs": [
    {
     "data": {
      "text/plain": [
       "Prima up-and-out    6.189\n",
       "Name: 2021-09-17 00:00:00, dtype: float64"
      ]
     },
     "execution_count": 31,
     "metadata": {},
     "output_type": "execute_result"
    }
   ],
   "source": [
    "putui.iloc[-1]"
   ]
  },
  {
   "cell_type": "markdown",
   "metadata": {},
   "source": [
    "### Simulación usando rendimientos historicas"
   ]
  },
  {
   "cell_type": "code",
   "execution_count": 32,
   "metadata": {},
   "outputs": [],
   "source": [
    "# Histograma tomando la tasa libre de riesgo\n",
    "freq, values = np.histogram(ret_msft+r-mu, bins=2000)\n",
    "prob = freq/np.sum(freq)\n",
    "\n",
    "# Simulación de los rendimientos\n",
    "ret = np.random.choice(values[1:], ndays*nscen, p=prob)\n",
    "\n",
    "# Simulación de precios\n",
    "sim_ret_hist = pd.DataFrame(ret.reshape((ndays,nscen)),index=dates)\n",
    "sim_closes_hist = (closes_msft.iloc[-1,0]) * np.exp(sim_ret_hist.cumsum())"
   ]
  },
  {
   "cell_type": "code",
   "execution_count": 33,
   "metadata": {},
   "outputs": [
    {
     "data": {
      "image/png": "[encoded data removed]",
      "text/plain": [
       "<Figure size 432x288 with 1 Axes>"
      ]
     },
     "metadata": {
      "needs_background": "light"
     },
     "output_type": "display_data"
    }
   ],
   "source": [
    "# Prima de una opción Europea\n",
    "put = pd.DataFrame({'Prima Europea':np.exp(-r*ndays)*np.fmax(strike - sim_closes_hist, 0)\n",
    "                     .mean(axis=1)},index=dates)\n",
    "\n",
    "# Prima de una opción barrera\n",
    "putui = pd.DataFrame({'Prima up-and-out':np.exp(-r*ndays)*(I * np.fmax(strike - sim_closes_hist, 0))\n",
    "                       .mean(axis=1)},index=dates)\n",
    "\n",
    "# Resultado de las dos primas previamente valuadas\n",
    "ax = putui.plot();\n",
    "put.plot(ax=ax);"
   ]
  },
  {
   "cell_type": "code",
   "execution_count": 34,
   "metadata": {},
   "outputs": [
    {
     "data": {
      "text/plain": [
       "Prima Europea    8.015\n",
       "Name: 2021-09-17 00:00:00, dtype: float64"
      ]
     },
     "execution_count": 34,
     "metadata": {},
     "output_type": "execute_result"
    }
   ],
   "source": [
    "put.iloc[-1]"
   ]
  },
  {
   "cell_type": "code",
   "execution_count": 35,
   "metadata": {},
   "outputs": [
    {
     "data": {
      "text/plain": [
       "Prima up-and-out    2.263\n",
       "Name: 2021-09-17 00:00:00, dtype: float64"
      ]
     },
     "execution_count": 35,
     "metadata": {},
     "output_type": "execute_result"
    }
   ],
   "source": [
    "putui.iloc[-1]"
   ]
  },
  {
   "cell_type": "markdown",
   "metadata": {},
   "source": [
    "## Conclusiones"
   ]
  },
  {
   "cell_type": "markdown",
   "metadata": {},
   "source": [
    "Para el caso del put se optienen unos resultados similares en cuanto a las diferencias en la valuación de la prima europea pero sobre todo en la diferencia a la hora de evaluar la opción de tipo barrera, finalmente en este caso del put no hubo una gran diferencia entre las valuaciones por la simulación montecarlo y el precio de mercado que debe de ser cercano al precio predicho por la solución a la ecuación de Black Scholes."
   ]
  }
 ],
 "metadata": {
  "kernelspec": {
   "display_name": "Python 3",
   "language": "python",
   "name": "python3"
  },
  "language_info": {
   "codemirror_mode": {
    "name": "ipython",
    "version": 3
   },
   "file_extension": ".py",
   "mimetype": "text/x-python",
   "name": "python",
   "nbconvert_exporter": "python",
   "pygments_lexer": "ipython3",
   "version": "3.8.5"
  }
 },
 "nbformat": 4,
 "nbformat_minor": 4
}
