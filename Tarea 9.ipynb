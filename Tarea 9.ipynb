{
 "cells": [
  {
   "cell_type": "markdown",
   "metadata": {},
   "source": [
    "<img style=\"float: left; margin: 30px 15px 15px 15px;\" src=\"https://pngimage.net/wp-content/uploads/2018/06/logo-iteso-png-5.png\" width=\"300\" height=\"500\" /> \n",
    "    \n",
    "    \n",
    "### <font color='navy'> Simulación de procesos financieros. \n",
    "\n",
    "**Nombres:** Flavio Palacios \n",
    "\n",
    "**Fecha:** 28 de Abril del 2021.\n",
    "\n",
    "**Expediente** : if729825, \n",
    "**Profesor:** Oscar David Jaramillo Zuluaga.\n",
    "\n",
    "# Tarea 9: Clase 22"
   ]
  },
  {
   "cell_type": "markdown",
   "metadata": {},
   "source": [
    "## Link de github\n",
    "[Github](https://github.com/Palacios-F/ProyectoConjunto_FCPalacios)"
   ]
  },
  {
   "cell_type": "markdown",
   "metadata": {},
   "source": [
    "### Instrucciones\n",
    "Replicar el procedimiento anterior para valoración de opciones 'call', pero en este caso para opciones tipo 'put'."
   ]
  },
  {
   "cell_type": "code",
   "execution_count": 1,
   "metadata": {},
   "outputs": [],
   "source": [
    "#importar los paquetes que se van a usar\n",
    "import pandas as pd\n",
    "import pandas_datareader.data as web\n",
    "import numpy as np\n",
    "import datetime\n",
    "import matplotlib.pyplot as plt\n",
    "import scipy.stats as st\n",
    "%matplotlib inline\n",
    "from datetime import date\n",
    "#algunas opciones para Pandas\n",
    "pd.set_option('display.notebook_repr_html', True)\n",
    "pd.set_option('display.max_columns', 6)\n",
    "pd.set_option('display.max_rows', 10)\n",
    "pd.set_option('display.width', 78)\n",
    "pd.set_option('precision', 3)"
   ]
  },
  {
   "cell_type": "code",
   "execution_count": 2,
   "metadata": {},
   "outputs": [
    {
     "data": {
      "text/html": [
       "<div>\n",
       "<style scoped>\n",
       "    .dataframe tbody tr th:only-of-type {\n",
       "        vertical-align: middle;\n",
       "    }\n",
       "\n",
       "    .dataframe tbody tr th {\n",
       "        vertical-align: top;\n",
       "    }\n",
       "\n",
       "    .dataframe thead th {\n",
       "        text-align: right;\n",
       "    }\n",
       "</style>\n",
       "<table border=\"1\" class=\"dataframe\">\n",
       "  <thead>\n",
       "    <tr style=\"text-align: right;\">\n",
       "      <th></th>\n",
       "      <th>Strike</th>\n",
       "      <th>Type</th>\n",
       "      <th>Symbol</th>\n",
       "      <th>...</th>\n",
       "      <th>Quote_Time</th>\n",
       "      <th>Last_Trade_Date</th>\n",
       "      <th>JSON</th>\n",
       "    </tr>\n",
       "    <tr>\n",
       "      <th>Expiry</th>\n",
       "      <th></th>\n",
       "      <th></th>\n",
       "      <th></th>\n",
       "      <th></th>\n",
       "      <th></th>\n",
       "      <th></th>\n",
       "      <th></th>\n",
       "    </tr>\n",
       "  </thead>\n",
       "  <tbody>\n",
       "    <tr>\n",
       "      <th>2021-06-18</th>\n",
       "      <td>18.75</td>\n",
       "      <td>call</td>\n",
       "      <td>AAPL210618C00018750</td>\n",
       "      <td>...</td>\n",
       "      <td>2021-04-27 23:59:58</td>\n",
       "      <td>2021-04-26 18:30:03</td>\n",
       "      <td>{'contractSymbol': 'AAPL210618C00018750', 'str...</td>\n",
       "    </tr>\n",
       "    <tr>\n",
       "      <th>2021-06-18</th>\n",
       "      <td>18.75</td>\n",
       "      <td>put</td>\n",
       "      <td>AAPL210618P00018750</td>\n",
       "      <td>...</td>\n",
       "      <td>2021-04-27 23:59:58</td>\n",
       "      <td>2021-04-22 14:35:20</td>\n",
       "      <td>{'contractSymbol': 'AAPL210618P00018750', 'str...</td>\n",
       "    </tr>\n",
       "    <tr>\n",
       "      <th>2021-06-18</th>\n",
       "      <td>20.00</td>\n",
       "      <td>call</td>\n",
       "      <td>AAPL210618C00020000</td>\n",
       "      <td>...</td>\n",
       "      <td>2021-04-27 23:59:58</td>\n",
       "      <td>2021-04-14 15:36:52</td>\n",
       "      <td>{'contractSymbol': 'AAPL210618C00020000', 'str...</td>\n",
       "    </tr>\n",
       "    <tr>\n",
       "      <th>2021-06-18</th>\n",
       "      <td>20.00</td>\n",
       "      <td>put</td>\n",
       "      <td>AAPL210618P00020000</td>\n",
       "      <td>...</td>\n",
       "      <td>2021-04-27 23:59:58</td>\n",
       "      <td>2021-03-22 19:57:37</td>\n",
       "      <td>{'contractSymbol': 'AAPL210618P00020000', 'str...</td>\n",
       "    </tr>\n",
       "    <tr>\n",
       "      <th>2021-06-18</th>\n",
       "      <td>21.25</td>\n",
       "      <td>call</td>\n",
       "      <td>AAPL210618C00021250</td>\n",
       "      <td>...</td>\n",
       "      <td>2021-04-27 23:59:58</td>\n",
       "      <td>2021-02-04 18:50:12</td>\n",
       "      <td>{'contractSymbol': 'AAPL210618C00021250', 'str...</td>\n",
       "    </tr>\n",
       "    <tr>\n",
       "      <th>...</th>\n",
       "      <td>...</td>\n",
       "      <td>...</td>\n",
       "      <td>...</td>\n",
       "      <td>...</td>\n",
       "      <td>...</td>\n",
       "      <td>...</td>\n",
       "      <td>...</td>\n",
       "    </tr>\n",
       "    <tr>\n",
       "      <th>2021-09-17</th>\n",
       "      <td>1000.00</td>\n",
       "      <td>call</td>\n",
       "      <td>AAPL210917C01000000</td>\n",
       "      <td>...</td>\n",
       "      <td>2021-04-27 23:59:58</td>\n",
       "      <td>2020-08-28 19:58:31</td>\n",
       "      <td>{'contractSymbol': 'AAPL210917C01000000', 'str...</td>\n",
       "    </tr>\n",
       "    <tr>\n",
       "      <th>2022-01-21</th>\n",
       "      <td>1000.00</td>\n",
       "      <td>call</td>\n",
       "      <td>AAPL220121C01000000</td>\n",
       "      <td>...</td>\n",
       "      <td>2021-04-27 23:59:58</td>\n",
       "      <td>2020-08-28 19:59:43</td>\n",
       "      <td>{'contractSymbol': 'AAPL220121C01000000', 'str...</td>\n",
       "    </tr>\n",
       "    <tr>\n",
       "      <th>2022-06-17</th>\n",
       "      <td>1000.00</td>\n",
       "      <td>call</td>\n",
       "      <td>AAPL220617C01000000</td>\n",
       "      <td>...</td>\n",
       "      <td>2021-04-27 23:59:58</td>\n",
       "      <td>2020-08-28 19:48:09</td>\n",
       "      <td>{'contractSymbol': 'AAPL220617C01000000', 'str...</td>\n",
       "    </tr>\n",
       "    <tr>\n",
       "      <th>2022-09-16</th>\n",
       "      <td>1000.00</td>\n",
       "      <td>call</td>\n",
       "      <td>AAPL220916C01000000</td>\n",
       "      <td>...</td>\n",
       "      <td>2021-04-27 23:59:58</td>\n",
       "      <td>2020-08-28 19:59:03</td>\n",
       "      <td>{'contractSymbol': 'AAPL220916C01000000', 'str...</td>\n",
       "    </tr>\n",
       "    <tr>\n",
       "      <th>2022-09-16</th>\n",
       "      <td>1000.00</td>\n",
       "      <td>put</td>\n",
       "      <td>AAPL220916P01000000</td>\n",
       "      <td>...</td>\n",
       "      <td>2021-04-27 23:59:58</td>\n",
       "      <td>2020-08-28 17:27:35</td>\n",
       "      <td>{'contractSymbol': 'AAPL220916P01000000', 'str...</td>\n",
       "    </tr>\n",
       "  </tbody>\n",
       "</table>\n",
       "<p>2310 rows × 18 columns</p>\n",
       "</div>"
      ],
      "text/plain": [
       "             Strike  Type               Symbol  ...          Quote_Time  \\\n",
       "Expiry                                          ...                       \n",
       "2021-06-18    18.75  call  AAPL210618C00018750  ... 2021-04-27 23:59:58   \n",
       "2021-06-18    18.75   put  AAPL210618P00018750  ... 2021-04-27 23:59:58   \n",
       "2021-06-18    20.00  call  AAPL210618C00020000  ... 2021-04-27 23:59:58   \n",
       "2021-06-18    20.00   put  AAPL210618P00020000  ... 2021-04-27 23:59:58   \n",
       "2021-06-18    21.25  call  AAPL210618C00021250  ... 2021-04-27 23:59:58   \n",
       "...             ...   ...                  ...  ...                 ...   \n",
       "2021-09-17  1000.00  call  AAPL210917C01000000  ... 2021-04-27 23:59:58   \n",
       "2022-01-21  1000.00  call  AAPL220121C01000000  ... 2021-04-27 23:59:58   \n",
       "2022-06-17  1000.00  call  AAPL220617C01000000  ... 2021-04-27 23:59:58   \n",
       "2022-09-16  1000.00  call  AAPL220916C01000000  ... 2021-04-27 23:59:58   \n",
       "2022-09-16  1000.00   put  AAPL220916P01000000  ... 2021-04-27 23:59:58   \n",
       "\n",
       "               Last_Trade_Date  \\\n",
       "Expiry                           \n",
       "2021-06-18 2021-04-26 18:30:03   \n",
       "2021-06-18 2021-04-22 14:35:20   \n",
       "2021-06-18 2021-04-14 15:36:52   \n",
       "2021-06-18 2021-03-22 19:57:37   \n",
       "2021-06-18 2021-02-04 18:50:12   \n",
       "...                        ...   \n",
       "2021-09-17 2020-08-28 19:58:31   \n",
       "2022-01-21 2020-08-28 19:59:43   \n",
       "2022-06-17 2020-08-28 19:48:09   \n",
       "2022-09-16 2020-08-28 19:59:03   \n",
       "2022-09-16 2020-08-28 17:27:35   \n",
       "\n",
       "                                                         JSON  \n",
       "Expiry                                                         \n",
       "2021-06-18  {'contractSymbol': 'AAPL210618C00018750', 'str...  \n",
       "2021-06-18  {'contractSymbol': 'AAPL210618P00018750', 'str...  \n",
       "2021-06-18  {'contractSymbol': 'AAPL210618C00020000', 'str...  \n",
       "2021-06-18  {'contractSymbol': 'AAPL210618P00020000', 'str...  \n",
       "2021-06-18  {'contractSymbol': 'AAPL210618C00021250', 'str...  \n",
       "...                                                       ...  \n",
       "2021-09-17  {'contractSymbol': 'AAPL210917C01000000', 'str...  \n",
       "2022-01-21  {'contractSymbol': 'AAPL220121C01000000', 'str...  \n",
       "2022-06-17  {'contractSymbol': 'AAPL220617C01000000', 'str...  \n",
       "2022-09-16  {'contractSymbol': 'AAPL220916C01000000', 'str...  \n",
       "2022-09-16  {'contractSymbol': 'AAPL220916P01000000', 'str...  \n",
       "\n",
       "[2310 rows x 18 columns]"
      ]
     },
     "execution_count": 2,
     "metadata": {},
     "output_type": "execute_result"
    }
   ],
   "source": [
    "aapl = web.YahooOptions('AAPL')\n",
    "aapl_opt = aapl.get_all_data().reset_index()\n",
    "aapl_opt.set_index('Expiry')"
   ]
  },
  {
   "cell_type": "code",
   "execution_count": 3,
   "metadata": {},
   "outputs": [
    {
     "data": {
      "text/html": [
       "<div>\n",
       "<style scoped>\n",
       "    .dataframe tbody tr th:only-of-type {\n",
       "        vertical-align: middle;\n",
       "    }\n",
       "\n",
       "    .dataframe tbody tr th {\n",
       "        vertical-align: top;\n",
       "    }\n",
       "\n",
       "    .dataframe thead th {\n",
       "        text-align: right;\n",
       "    }\n",
       "</style>\n",
       "<table border=\"1\" class=\"dataframe\">\n",
       "  <thead>\n",
       "    <tr style=\"text-align: right;\">\n",
       "      <th></th>\n",
       "      <th>Strike</th>\n",
       "      <th>Expiry</th>\n",
       "      <th>Type</th>\n",
       "      <th>...</th>\n",
       "      <th>Quote_Time</th>\n",
       "      <th>Last_Trade_Date</th>\n",
       "      <th>JSON</th>\n",
       "    </tr>\n",
       "  </thead>\n",
       "  <tbody>\n",
       "    <tr>\n",
       "      <th>22</th>\n",
       "      <td>27.50</td>\n",
       "      <td>2021-09-17</td>\n",
       "      <td>put</td>\n",
       "      <td>...</td>\n",
       "      <td>2021-04-27 23:59:58</td>\n",
       "      <td>2021-04-21 19:51:45</td>\n",
       "      <td>{'contractSymbol': 'AAPL210917P00027500', 'str...</td>\n",
       "    </tr>\n",
       "    <tr>\n",
       "      <th>28</th>\n",
       "      <td>28.75</td>\n",
       "      <td>2021-09-17</td>\n",
       "      <td>put</td>\n",
       "      <td>...</td>\n",
       "      <td>2021-04-27 23:59:58</td>\n",
       "      <td>2021-04-12 13:58:21</td>\n",
       "      <td>{'contractSymbol': 'AAPL210917P00028750', 'str...</td>\n",
       "    </tr>\n",
       "    <tr>\n",
       "      <th>40</th>\n",
       "      <td>30.00</td>\n",
       "      <td>2021-09-17</td>\n",
       "      <td>put</td>\n",
       "      <td>...</td>\n",
       "      <td>2021-04-27 23:59:58</td>\n",
       "      <td>2021-04-20 18:25:39</td>\n",
       "      <td>{'contractSymbol': 'AAPL210917P00030000', 'str...</td>\n",
       "    </tr>\n",
       "    <tr>\n",
       "      <th>50</th>\n",
       "      <td>31.25</td>\n",
       "      <td>2021-09-17</td>\n",
       "      <td>put</td>\n",
       "      <td>...</td>\n",
       "      <td>2021-04-27 23:59:58</td>\n",
       "      <td>2021-04-07 13:38:42</td>\n",
       "      <td>{'contractSymbol': 'AAPL210917P00031250', 'str...</td>\n",
       "    </tr>\n",
       "    <tr>\n",
       "      <th>58</th>\n",
       "      <td>32.50</td>\n",
       "      <td>2021-09-17</td>\n",
       "      <td>put</td>\n",
       "      <td>...</td>\n",
       "      <td>2021-04-27 23:59:58</td>\n",
       "      <td>2021-04-23 13:39:37</td>\n",
       "      <td>{'contractSymbol': 'AAPL210917P00032500', 'str...</td>\n",
       "    </tr>\n",
       "    <tr>\n",
       "      <th>...</th>\n",
       "      <td>...</td>\n",
       "      <td>...</td>\n",
       "      <td>...</td>\n",
       "      <td>...</td>\n",
       "      <td>...</td>\n",
       "      <td>...</td>\n",
       "      <td>...</td>\n",
       "    </tr>\n",
       "    <tr>\n",
       "      <th>2212</th>\n",
       "      <td>560.00</td>\n",
       "      <td>2021-09-17</td>\n",
       "      <td>put</td>\n",
       "      <td>...</td>\n",
       "      <td>2021-04-27 23:59:58</td>\n",
       "      <td>2020-08-28 19:40:53</td>\n",
       "      <td>{'contractSymbol': 'AAPL210917P00560000', 'str...</td>\n",
       "    </tr>\n",
       "    <tr>\n",
       "      <th>2222</th>\n",
       "      <td>580.00</td>\n",
       "      <td>2021-09-17</td>\n",
       "      <td>put</td>\n",
       "      <td>...</td>\n",
       "      <td>2021-04-27 23:59:58</td>\n",
       "      <td>2020-08-25 13:59:05</td>\n",
       "      <td>{'contractSymbol': 'AAPL210917P00580000', 'str...</td>\n",
       "    </tr>\n",
       "    <tr>\n",
       "      <th>2230</th>\n",
       "      <td>600.00</td>\n",
       "      <td>2021-09-17</td>\n",
       "      <td>put</td>\n",
       "      <td>...</td>\n",
       "      <td>2021-04-27 23:59:58</td>\n",
       "      <td>2020-08-25 17:44:08</td>\n",
       "      <td>{'contractSymbol': 'AAPL210917P00600000', 'str...</td>\n",
       "    </tr>\n",
       "    <tr>\n",
       "      <th>2247</th>\n",
       "      <td>640.00</td>\n",
       "      <td>2021-09-17</td>\n",
       "      <td>put</td>\n",
       "      <td>...</td>\n",
       "      <td>2021-04-27 23:59:58</td>\n",
       "      <td>2020-08-27 16:29:02</td>\n",
       "      <td>{'contractSymbol': 'AAPL210917P00640000', 'str...</td>\n",
       "    </tr>\n",
       "    <tr>\n",
       "      <th>2273</th>\n",
       "      <td>700.00</td>\n",
       "      <td>2021-09-17</td>\n",
       "      <td>put</td>\n",
       "      <td>...</td>\n",
       "      <td>2021-04-27 23:59:58</td>\n",
       "      <td>2020-08-28 14:57:19</td>\n",
       "      <td>{'contractSymbol': 'AAPL210917P00700000', 'str...</td>\n",
       "    </tr>\n",
       "  </tbody>\n",
       "</table>\n",
       "<p>102 rows × 19 columns</p>\n",
       "</div>"
      ],
      "text/plain": [
       "      Strike     Expiry Type  ...          Quote_Time     Last_Trade_Date  \\\n",
       "22     27.50 2021-09-17  put  ... 2021-04-27 23:59:58 2021-04-21 19:51:45   \n",
       "28     28.75 2021-09-17  put  ... 2021-04-27 23:59:58 2021-04-12 13:58:21   \n",
       "40     30.00 2021-09-17  put  ... 2021-04-27 23:59:58 2021-04-20 18:25:39   \n",
       "50     31.25 2021-09-17  put  ... 2021-04-27 23:59:58 2021-04-07 13:38:42   \n",
       "58     32.50 2021-09-17  put  ... 2021-04-27 23:59:58 2021-04-23 13:39:37   \n",
       "...      ...        ...  ...  ...                 ...                 ...   \n",
       "2212  560.00 2021-09-17  put  ... 2021-04-27 23:59:58 2020-08-28 19:40:53   \n",
       "2222  580.00 2021-09-17  put  ... 2021-04-27 23:59:58 2020-08-25 13:59:05   \n",
       "2230  600.00 2021-09-17  put  ... 2021-04-27 23:59:58 2020-08-25 17:44:08   \n",
       "2247  640.00 2021-09-17  put  ... 2021-04-27 23:59:58 2020-08-27 16:29:02   \n",
       "2273  700.00 2021-09-17  put  ... 2021-04-27 23:59:58 2020-08-28 14:57:19   \n",
       "\n",
       "                                                   JSON  \n",
       "22    {'contractSymbol': 'AAPL210917P00027500', 'str...  \n",
       "28    {'contractSymbol': 'AAPL210917P00028750', 'str...  \n",
       "40    {'contractSymbol': 'AAPL210917P00030000', 'str...  \n",
       "50    {'contractSymbol': 'AAPL210917P00031250', 'str...  \n",
       "58    {'contractSymbol': 'AAPL210917P00032500', 'str...  \n",
       "...                                                 ...  \n",
       "2212  {'contractSymbol': 'AAPL210917P00560000', 'str...  \n",
       "2222  {'contractSymbol': 'AAPL210917P00580000', 'str...  \n",
       "2230  {'contractSymbol': 'AAPL210917P00600000', 'str...  \n",
       "2247  {'contractSymbol': 'AAPL210917P00640000', 'str...  \n",
       "2273  {'contractSymbol': 'AAPL210917P00700000', 'str...  \n",
       "\n",
       "[102 rows x 19 columns]"
      ]
     },
     "execution_count": 3,
     "metadata": {},
     "output_type": "execute_result"
    }
   ],
   "source": [
    "fecha1 = '2021-09-17'\n",
    "put09_f1 = aapl_opt.loc[(aapl_opt.Expiry== fecha1) & (aapl_opt.Type=='put')]\n",
    "put09_f1"
   ]
  },
  {
   "cell_type": "markdown",
   "metadata": {},
   "source": [
    "### Underlying Price"
   ]
  },
  {
   "cell_type": "code",
   "execution_count": 4,
   "metadata": {},
   "outputs": [
    {
     "data": {
      "text/plain": [
       "134.79"
      ]
     },
     "execution_count": 4,
     "metadata": {},
     "output_type": "execute_result"
    }
   ],
   "source": [
    "put09_f1.Underlying_Price.iloc[0]"
   ]
  },
  {
   "cell_type": "markdown",
   "metadata": {},
   "source": [
    "### Volatility Smile"
   ]
  },
  {
   "cell_type": "code",
   "execution_count": 5,
   "metadata": {},
   "outputs": [
    {
     "data": {
      "image/png": "[encoded data removed]",
      "text/plain": [
       "<Figure size 576x432 with 1 Axes>"
      ]
     },
     "metadata": {
      "needs_background": "light"
     },
     "output_type": "display_data"
    }
   ],
   "source": [
    "ax = put09_f1.set_index('Strike').loc[:, 'IV'].plot(figsize=(8,6))\n",
    "ax.axvline(put09_f1.Underlying_Price.iloc[0], color='g');"
   ]
  },
  {
   "cell_type": "code",
   "execution_count": 6,
   "metadata": {},
   "outputs": [],
   "source": [
    "def get_adj_closes(tickers, start_date=None, end_date=None):\n",
    "    # Fecha inicio por defecto (start_date='2010-01-01') y fecha fin por defecto (end_date=today)\n",
    "    # Descargamos DataFrame con todos los datos\n",
    "    closes = web.DataReader(name=tickers, data_source='yahoo', start=start_date, end=end_date)\n",
    "    # Solo necesitamos los precios ajustados en el cierre\n",
    "    closes = closes['Adj Close']\n",
    "    # Se ordenan los índices de manera ascendente\n",
    "    closes.sort_index(inplace=True)\n",
    "    return closes\n",
    "\n",
    "def calc_daily_ret(closes):\n",
    "    return np.log(closes/closes.shift(1)).iloc[1:]"
   ]
  },
  {
   "cell_type": "code",
   "execution_count": 7,
   "metadata": {},
   "outputs": [
    {
     "data": {
      "image/png": "[encoded data removed]",
      "text/plain": [
       "<Figure size 576x360 with 1 Axes>"
      ]
     },
     "metadata": {
      "needs_background": "light"
     },
     "output_type": "display_data"
    }
   ],
   "source": [
    "ticker = ['AAPL']\n",
    "start_date = '2017-01-01'\n",
    "\n",
    "closes_aapl = get_adj_closes(ticker, start_date)\n",
    "closes_aapl.plot(figsize=(8,5));\n",
    "plt.legend(ticker);"
   ]
  },
  {
   "cell_type": "code",
   "execution_count": 8,
   "metadata": {},
   "outputs": [],
   "source": [
    "ret_aapl = calc_daily_ret(closes_aapl)"
   ]
  },
  {
   "cell_type": "markdown",
   "metadata": {},
   "source": [
    "### Selección de la opción"
   ]
  },
  {
   "cell_type": "code",
   "execution_count": 9,
   "metadata": {},
   "outputs": [
    {
     "data": {
      "text/html": [
       "<div>\n",
       "<style scoped>\n",
       "    .dataframe tbody tr th:only-of-type {\n",
       "        vertical-align: middle;\n",
       "    }\n",
       "\n",
       "    .dataframe tbody tr th {\n",
       "        vertical-align: top;\n",
       "    }\n",
       "\n",
       "    .dataframe thead th {\n",
       "        text-align: right;\n",
       "    }\n",
       "</style>\n",
       "<table border=\"1\" class=\"dataframe\">\n",
       "  <thead>\n",
       "    <tr style=\"text-align: right;\">\n",
       "      <th></th>\n",
       "      <th>Strike</th>\n",
       "      <th>Expiry</th>\n",
       "      <th>Type</th>\n",
       "      <th>...</th>\n",
       "      <th>Quote_Time</th>\n",
       "      <th>Last_Trade_Date</th>\n",
       "      <th>JSON</th>\n",
       "    </tr>\n",
       "  </thead>\n",
       "  <tbody>\n",
       "    <tr>\n",
       "      <th>1447</th>\n",
       "      <td>150.0</td>\n",
       "      <td>2021-09-17</td>\n",
       "      <td>put</td>\n",
       "      <td>...</td>\n",
       "      <td>2021-04-27 23:59:58</td>\n",
       "      <td>2021-04-26 15:31:33</td>\n",
       "      <td>{'contractSymbol': 'AAPL210917P00150000', 'str...</td>\n",
       "    </tr>\n",
       "  </tbody>\n",
       "</table>\n",
       "<p>1 rows × 19 columns</p>\n",
       "</div>"
      ],
      "text/plain": [
       "      Strike     Expiry Type  ...          Quote_Time     Last_Trade_Date  \\\n",
       "1447   150.0 2021-09-17  put  ... 2021-04-27 23:59:58 2021-04-26 15:31:33   \n",
       "\n",
       "                                                   JSON  \n",
       "1447  {'contractSymbol': 'AAPL210917P00150000', 'str...  \n",
       "\n",
       "[1 rows x 19 columns]"
      ]
     },
     "execution_count": 9,
     "metadata": {},
     "output_type": "execute_result"
    }
   ],
   "source": [
    "K = 150 # strike price\n",
    "indice_opt = aapl_opt.loc[(aapl_opt.Type=='put') & (aapl_opt.Strike==K) & (aapl_opt.Expiry==fecha1)]\n",
    "indice_opt"
   ]
  },
  {
   "cell_type": "markdown",
   "metadata": {},
   "source": [
    "Escogí el strike de 150 porque en la sonrisa de volatilidad aproximadamente ese strike tenía una volatilidad equivalente al mismo strike que el día de hoy para la opción de put"
   ]
  },
  {
   "cell_type": "code",
   "execution_count": 10,
   "metadata": {},
   "outputs": [
    {
     "data": {
      "text/plain": [
       "{'contractSymbol': 'AAPL210917P00150000',\n",
       " 'strike': 150.0,\n",
       " 'currency': 'USD',\n",
       " 'lastPrice': 20.0,\n",
       " 'change': 0.049999237,\n",
       " 'percentChange': 0.25062272,\n",
       " 'volume': 1,\n",
       " 'openInterest': 1331,\n",
       " 'bid': 19.8,\n",
       " 'ask': 19.95,\n",
       " 'contractSize': 'REGULAR',\n",
       " 'expiration': 1631836800,\n",
       " 'lastTradeDate': 1619451093,\n",
       " 'impliedVolatility': 0.2915109912109374,\n",
       " 'inTheMoney': True}"
      ]
     },
     "execution_count": 10,
     "metadata": {},
     "output_type": "execute_result"
    }
   ],
   "source": [
    "i_opt= indice_opt.index\n",
    "opcion_valuar = aapl_opt.loc[i_opt[0]]\n",
    "opcion_valuar['JSON']"
   ]
  },
  {
   "cell_type": "markdown",
   "metadata": {},
   "source": [
    "### Valuación Montecarlo"
   ]
  },
  {
   "cell_type": "code",
   "execution_count": 11,
   "metadata": {},
   "outputs": [
    {
     "data": {
      "text/plain": [
       "(0.0014636109416715914, 0.01993063800754141)"
      ]
     },
     "execution_count": 11,
     "metadata": {},
     "output_type": "execute_result"
    }
   ],
   "source": [
    "mu = ret_aapl.mean()[0]\n",
    "sigma = ret_aapl.std()[0]\n",
    "mu, sigma"
   ]
  },
  {
   "cell_type": "code",
   "execution_count": 12,
   "metadata": {},
   "outputs": [],
   "source": [
    "# Tasa de bonos de 1 yr de fecha 27/04/21 -> 0.06%\n",
    "r = 0.0006/360 # Tasa diaria"
   ]
  },
  {
   "cell_type": "code",
   "execution_count": 13,
   "metadata": {},
   "outputs": [],
   "source": [
    "\n",
    "\n",
    "# Encontrar la fecha de hoy en fomato timestamp\n",
    "today = pd.to_datetime(date.today())\n",
    "\n",
    "# Obtener fecha de cierre de la opción a valuar\n",
    "expiry = opcion_valuar.Expiry\n",
    "\n",
    "# Generar rangos de fechas de días hábiles\n",
    "dates = pd.date_range(today,expiry,freq = 'B')\n",
    "ndays = len(dates)\n",
    "\n",
    "# Número de escenarios\n",
    "nscen = 100000\n",
    "\n",
    "# Condición inicial del precio a simular\n",
    "S0 = closes_aapl.iloc[-1,0]\n",
    "\n",
    "# simular rendimientos\n",
    "sim_ret =  pd.DataFrame(sigma*np.random.randn(ndays,nscen)+r,index=dates)\n",
    "\n",
    "# Simular precios\n",
    "sim_closes = S0*np.exp(sim_ret.cumsum())"
   ]
  },
  {
   "cell_type": "code",
   "execution_count": 14,
   "metadata": {},
   "outputs": [
    {
     "data": {
      "image/png": "[encoded data removed]",
      "text/plain": [
       "<Figure size 576x432 with 1 Axes>"
      ]
     },
     "metadata": {
      "needs_background": "light"
     },
     "output_type": "display_data"
    }
   ],
   "source": [
    "pd.concat([closes_aapl,sim_closes.iloc[:,:20]]).plot(figsize=(8,6));"
   ]
  },
  {
   "cell_type": "markdown",
   "metadata": {},
   "source": [
    "Considerando que las opciones tienen como función de pago a:\n",
    "$$ P(S(t),t)=max\\{S(T)-K,0\\} \\rightarrow \\text{En el caso de Call}$$ \n",
    "$$ P(S(t),t)=max\\{K-S(T),0\\} \\rightarrow \\text{En el caso de Put}$$ \n",
    "se llaman opciones **Vainilla**, con $h:[0,\\infty) \\to [0,\\infty)$."
   ]
  },
  {
   "cell_type": "code",
   "execution_count": 15,
   "metadata": {},
   "outputs": [
    {
     "data": {
      "image/png": "[encoded data removed]",
      "text/plain": [
       "<Figure size 432x288 with 1 Axes>"
      ]
     },
     "metadata": {
      "needs_background": "light"
     },
     "output_type": "display_data"
    }
   ],
   "source": [
    "# Frame con el valor del strike\n",
    "strike = pd.DataFrame(K*np.ones([ndays,nscen]), index=dates)\n",
    "\n",
    "# Valor del put europeo\n",
    "put = pd.DataFrame({'Prima':np.exp(-r*ndays) \\\n",
    "              *np.fmax(strike-sim_closes,np.zeros([ndays,nscen])).mean(axis=1)}, index=dates)\n",
    "put.plot();"
   ]
  },
  {
   "cell_type": "code",
   "execution_count": 16,
   "metadata": {},
   "outputs": [
    {
     "data": {
      "text/plain": [
       "19.139630241556393"
      ]
     },
     "execution_count": 16,
     "metadata": {},
     "output_type": "execute_result"
    }
   ],
   "source": [
    "put.Prima[-1]"
   ]
  },
  {
   "cell_type": "code",
   "execution_count": 17,
   "metadata": {},
   "outputs": [
    {
     "name": "stdout",
     "output_type": "stream",
     "text": [
      "(18.910427437809314, 19.36883304530347)\n"
     ]
    }
   ],
   "source": [
    "confianza = 0.99\n",
    "sigma_est = sim_closes.iloc[-1].sem()\n",
    "mean_est = put.iloc[-1].Prima\n",
    "i2 = st.norm.interval(confianza, loc=mean_est, scale=sigma_est)\n",
    "print(i2)"
   ]
  },
  {
   "cell_type": "code",
   "execution_count": 18,
   "metadata": {},
   "outputs": [
    {
     "data": {
      "text/plain": [
       "{'contractSymbol': 'AAPL210917P00150000',\n",
       " 'strike': 150.0,\n",
       " 'currency': 'USD',\n",
       " 'lastPrice': 20.0,\n",
       " 'change': 0.049999237,\n",
       " 'percentChange': 0.25062272,\n",
       " 'volume': 1,\n",
       " 'openInterest': 1331,\n",
       " 'bid': 19.8,\n",
       " 'ask': 19.95,\n",
       " 'contractSize': 'REGULAR',\n",
       " 'expiration': 1631836800,\n",
       " 'lastTradeDate': 1619451093,\n",
       " 'impliedVolatility': 0.2915109912109374,\n",
       " 'inTheMoney': True}"
      ]
     },
     "execution_count": 18,
     "metadata": {},
     "output_type": "execute_result"
    }
   ],
   "source": [
    "opcion_valuar['JSON']"
   ]
  },
  {
   "cell_type": "markdown",
   "metadata": {},
   "source": [
    "### Valuación con Modelo de Black Scholes"
   ]
  },
  {
   "cell_type": "markdown",
   "metadata": {},
   "source": [
    "Si consideramos el valor resultante de nuestra simulación montecarlo y de lo comparamos con el precio de dicha opción entonces el valor no esta demasiado lejos del precio de mercado actualmente"
   ]
  },
  {
   "cell_type": "markdown",
   "metadata": {},
   "source": [
    "Si consideramos la Ecuación de Black-Scholes\n",
    "$$ dS(t) = \\mu S(t) + \\sigma S(t)dW_t$$\n",
    "2. Solución de la ecuación\n",
    "\n",
    "El valor de una opción Europea de vainilla $V_t$ puede obtenerse por:\n",
    "$$V_t = F(t,S_t)$$ donde\n",
    "\n",
    "$$F(t,S_t)=S_tN(d_1)-Ke^{r(T-t)}N(d_2)$$\n",
    "\n",
    "$$N(x)=\\frac{1}{\\sqrt{2\\pi}}\\int_{-\\infty}^{x} e^{-\\frac{y^2}{2}} dy$$\n",
    "\n",
    "$$d_1 = \\frac{\\ln{S_t/K)+(r+\\frac{1}{2}\\sigma^2)(T-t)}}{\\sigma\\sqrt{T-t}}$$\n",
    "$$d_2 = \\frac{\\ln{S_t/K)+(r-\\frac{1}{2}\\sigma^2)(T-t)}}{\\sigma\\sqrt{T-t}}$$\n"
   ]
  },
  {
   "cell_type": "code",
   "execution_count": 19,
   "metadata": {},
   "outputs": [],
   "source": [
    "def BlackScholes(St:'Precio al día de hoy',\n",
    "                 K: 'Precio Strike',\n",
    "                 T = 'tiempo',\n",
    "                 sigma = 'volatilidad',\n",
    "                 r = 'tasa r',\n",
    "                 tipo = 'Put o Call'):\n",
    "    \"\"\"\n",
    "    Función que calcula el valor de una opción de tipo europea call o put en base a su precio, strike y demás\n",
    "    datos, devuelve la opción de tipo Put en caso de que el tipo sea igual a True y Call en el caso de que sea False\n",
    "    \"\"\"\n",
    "    if tipo == True:\n",
    "        a = -1\n",
    "    else:\n",
    "        a = 1\n",
    "    d1 = lambda K,St,r,sigma,T: (np.log(St/K) + (r+0.5*sigma**2)*T)/(sigma*T**0.5)\n",
    "    d2 = lambda K,St,r,sigma,T: (np.log(St/K) + (r-0.5*sigma**2)*T)/(sigma*T**0.5)\n",
    "    P = a*St*st.norm(0,1).cdf(d1(K,St,r,sigma,T)*a)- a*K*np.exp(-r*T)*st.norm(0,1).cdf(d2(K,St,r,sigma,T)*a)\n",
    "    return P"
   ]
  },
  {
   "cell_type": "markdown",
   "metadata": {},
   "source": [
    "Si consideramos la volatilidad implicita que viene dentro de la opción nos queda el siguiente resultado"
   ]
  },
  {
   "cell_type": "code",
   "execution_count": 20,
   "metadata": {},
   "outputs": [
    {
     "data": {
      "text/plain": [
       "19.986459451388683"
      ]
     },
     "execution_count": 20,
     "metadata": {},
     "output_type": "execute_result"
    }
   ],
   "source": [
    "BlackScholes(S0,K,(expiry- today).days/360,opcion_valuar['JSON']['impliedVolatility'],0.0006,True)"
   ]
  },
  {
   "cell_type": "markdown",
   "metadata": {},
   "source": [
    "Lo cuál es muy cercano al ultimo precio que fue de 20 y similar al ask pedido, podrá variar un poco el precio debido a los cambios constantes en el precio del subyacente conforme avanza el día"
   ]
  }
 ],
 "metadata": {
  "kernelspec": {
   "display_name": "Python 3",
   "language": "python",
   "name": "python3"
  },
  "language_info": {
   "codemirror_mode": {
    "name": "ipython",
    "version": 3
   },
   "file_extension": ".py",
   "mimetype": "text/x-python",
   "name": "python",
   "nbconvert_exporter": "python",
   "pygments_lexer": "ipython3",
   "version": "3.8.5"
  }
 },
 "nbformat": 4,
 "nbformat_minor": 4
}
